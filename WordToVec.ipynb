{
 "cells": [
  {
   "cell_type": "code",
   "execution_count": 11,
   "metadata": {},
   "outputs": [
    {
     "name": "stderr",
     "output_type": "stream",
     "text": [
      "/var/folders/cy/zk4z3gfd61j8bl6zhmcvx7yw0000gn/T/ipykernel_2225/2041083594.py:8: FutureWarning: The default value of regex will change from True to False in a future version.\n",
      "  data['cleaned_text'] = data['text'].str.lower().str.replace('[^\\w\\s]', '')\n"
     ]
    }
   ],
   "source": [
    "import pandas as pd\n",
    "import numpy as np\n",
    "\n",
    "# Load your data\n",
    "data = pd.read_csv('political_data.csv')\n",
    "\n",
    "# Preprocess text (you can expand this as needed)\n",
    "data['cleaned_text'] = data['text'].str.lower().str.replace('[^\\w\\s]', '')"
   ]
  },
  {
   "cell_type": "code",
   "execution_count": 12,
   "metadata": {},
   "outputs": [
    {
     "data": {
      "text/html": [
       "<div>\n",
       "<style scoped>\n",
       "    .dataframe tbody tr th:only-of-type {\n",
       "        vertical-align: middle;\n",
       "    }\n",
       "\n",
       "    .dataframe tbody tr th {\n",
       "        vertical-align: top;\n",
       "    }\n",
       "\n",
       "    .dataframe thead th {\n",
       "        text-align: right;\n",
       "    }\n",
       "</style>\n",
       "<table border=\"1\" class=\"dataframe\">\n",
       "  <thead>\n",
       "    <tr style=\"text-align: right;\">\n",
       "      <th></th>\n",
       "      <th>text</th>\n",
       "      <th>subreddit</th>\n",
       "      <th>post_or_comment</th>\n",
       "      <th>expected_political_leaning</th>\n",
       "      <th>score</th>\n",
       "      <th>cleaned_text</th>\n",
       "    </tr>\n",
       "  </thead>\n",
       "  <tbody>\n",
       "    <tr>\n",
       "      <th>0</th>\n",
       "      <td>My one and only response to this event. Don’t ...</td>\n",
       "      <td>Democrats</td>\n",
       "      <td>post</td>\n",
       "      <td>lib</td>\n",
       "      <td>37956</td>\n",
       "      <td>my one and only response to this event dont yo...</td>\n",
       "    </tr>\n",
       "    <tr>\n",
       "      <th>1</th>\n",
       "      <td>PSA for those visiting the sub for the first t...</td>\n",
       "      <td>Democrats</td>\n",
       "      <td>comment</td>\n",
       "      <td>lib</td>\n",
       "      <td>1</td>\n",
       "      <td>psa for those visiting the sub for the first t...</td>\n",
       "    </tr>\n",
       "    <tr>\n",
       "      <th>2</th>\n",
       "      <td>Don’t forget burning down Planned Parenthood c...</td>\n",
       "      <td>Democrats</td>\n",
       "      <td>comment</td>\n",
       "      <td>lib</td>\n",
       "      <td>663</td>\n",
       "      <td>dont forget burning down planned parenthood cl...</td>\n",
       "    </tr>\n",
       "    <tr>\n",
       "      <th>3</th>\n",
       "      <td>Don't forget how they laughed and cheered when...</td>\n",
       "      <td>Democrats</td>\n",
       "      <td>comment</td>\n",
       "      <td>lib</td>\n",
       "      <td>544</td>\n",
       "      <td>dont forget how they laughed and cheered when ...</td>\n",
       "    </tr>\n",
       "    <tr>\n",
       "      <th>4</th>\n",
       "      <td>There's zero chance that this is going to make...</td>\n",
       "      <td>Democrats</td>\n",
       "      <td>comment</td>\n",
       "      <td>lib</td>\n",
       "      <td>126</td>\n",
       "      <td>theres zero chance that this is going to make ...</td>\n",
       "    </tr>\n",
       "  </tbody>\n",
       "</table>\n",
       "</div>"
      ],
      "text/plain": [
       "                                                text  subreddit  \\\n",
       "0  My one and only response to this event. Don’t ...  Democrats   \n",
       "1  PSA for those visiting the sub for the first t...  Democrats   \n",
       "2  Don’t forget burning down Planned Parenthood c...  Democrats   \n",
       "3  Don't forget how they laughed and cheered when...  Democrats   \n",
       "4  There's zero chance that this is going to make...  Democrats   \n",
       "\n",
       "  post_or_comment expected_political_leaning  score  \\\n",
       "0            post                        lib  37956   \n",
       "1         comment                        lib      1   \n",
       "2         comment                        lib    663   \n",
       "3         comment                        lib    544   \n",
       "4         comment                        lib    126   \n",
       "\n",
       "                                        cleaned_text  \n",
       "0  my one and only response to this event dont yo...  \n",
       "1  psa for those visiting the sub for the first t...  \n",
       "2  dont forget burning down planned parenthood cl...  \n",
       "3  dont forget how they laughed and cheered when ...  \n",
       "4  theres zero chance that this is going to make ...  "
      ]
     },
     "execution_count": 12,
     "metadata": {},
     "output_type": "execute_result"
    }
   ],
   "source": [
    "data.head()"
   ]
  },
  {
   "cell_type": "code",
   "execution_count": 13,
   "metadata": {},
   "outputs": [],
   "source": [
    "from gensim.models import Word2Vec\n",
    "\n",
    "# Tokenize text data\n",
    "sentences = [text.split() for text in data['cleaned_text']]\n",
    "\n",
    "# Train a Word2Vec model on the sentences\n",
    "model = Word2Vec(sentences, vector_size=100, window=5, min_count=1, workers=4)\n",
    "\n",
    "# Generate embeddings for each document\n",
    "data['embedding'] = data['cleaned_text'].apply(\n",
    "    lambda x: np.mean([model.wv[word] for word in x.split() if word in model.wv], axis=0) \n",
    "    if any(word in model.wv for word in x.split()) \n",
    "    else np.zeros(model.vector_size)\n",
    ")\n"
   ]
  },
  {
   "cell_type": "code",
   "execution_count": 14,
   "metadata": {},
   "outputs": [
    {
     "name": "stderr",
     "output_type": "stream",
     "text": [
      "/Users/nishk/opt/anaconda3/lib/python3.9/site-packages/pandas/core/arraylike.py:397: RuntimeWarning: divide by zero encountered in log1p\n",
      "  result = getattr(ufunc, method)(*inputs, **kwargs)\n",
      "/Users/nishk/opt/anaconda3/lib/python3.9/site-packages/pandas/core/arraylike.py:397: RuntimeWarning: invalid value encountered in log1p\n",
      "  result = getattr(ufunc, method)(*inputs, **kwargs)\n",
      "/var/folders/cy/zk4z3gfd61j8bl6zhmcvx7yw0000gn/T/ipykernel_2225/1912533601.py:2: RuntimeWarning: invalid value encountered in multiply\n",
      "  data['weighted_embedding'] = data.apply(lambda row: row['embedding'] * row['upvote_weight'], axis=1)\n"
     ]
    }
   ],
   "source": [
    "data['upvote_weight'] = np.log1p(data['score'])\n",
    "data['weighted_embedding'] = data.apply(lambda row: row['embedding'] * row['upvote_weight'], axis=1)"
   ]
  },
  {
   "cell_type": "code",
   "execution_count": 20,
   "metadata": {},
   "outputs": [
    {
     "ename": "ValueError",
     "evalue": "input not a numpy array",
     "output_type": "error",
     "traceback": [
      "\u001b[0;31m---------------------------------------------------------------------------\u001b[0m",
      "\u001b[0;31mValueError\u001b[0m                                Traceback (most recent call last)",
      "\u001b[0;32m/var/folders/cy/zk4z3gfd61j8bl6zhmcvx7yw0000gn/T/ipykernel_2225/1993103075.py\u001b[0m in \u001b[0;36m<module>\u001b[0;34m\u001b[0m\n\u001b[1;32m      7\u001b[0m \u001b[0md\u001b[0m \u001b[0;34m=\u001b[0m \u001b[0membeddings_matrix\u001b[0m\u001b[0;34m.\u001b[0m\u001b[0mshape\u001b[0m\u001b[0;34m[\u001b[0m\u001b[0;36m1\u001b[0m\u001b[0;34m]\u001b[0m  \u001b[0;31m# dimension of embeddings\u001b[0m\u001b[0;34m\u001b[0m\u001b[0;34m\u001b[0m\u001b[0m\n\u001b[1;32m      8\u001b[0m \u001b[0mindex\u001b[0m \u001b[0;34m=\u001b[0m \u001b[0mfaiss\u001b[0m\u001b[0;34m.\u001b[0m\u001b[0mIndexFlatL2\u001b[0m\u001b[0;34m(\u001b[0m\u001b[0md\u001b[0m\u001b[0;34m)\u001b[0m    \u001b[0;31m# Euclidean distance, or use IndexFlatIP for inner product\u001b[0m\u001b[0;34m\u001b[0m\u001b[0;34m\u001b[0m\u001b[0m\n\u001b[0;32m----> 9\u001b[0;31m \u001b[0mindex\u001b[0m\u001b[0;34m.\u001b[0m\u001b[0madd\u001b[0m\u001b[0;34m(\u001b[0m\u001b[0membeddings_matrix\u001b[0m\u001b[0;34m)\u001b[0m    \u001b[0;31m# Add embeddings to the index\u001b[0m\u001b[0;34m\u001b[0m\u001b[0;34m\u001b[0m\u001b[0m\n\u001b[0m",
      "\u001b[0;32m~/opt/anaconda3/lib/python3.9/site-packages/faiss/class_wrappers.py\u001b[0m in \u001b[0;36mreplacement_add\u001b[0;34m(self, x)\u001b[0m\n\u001b[1;32m    228\u001b[0m         \u001b[0;32massert\u001b[0m \u001b[0md\u001b[0m \u001b[0;34m==\u001b[0m \u001b[0mself\u001b[0m\u001b[0;34m.\u001b[0m\u001b[0md\u001b[0m\u001b[0;34m\u001b[0m\u001b[0;34m\u001b[0m\u001b[0m\n\u001b[1;32m    229\u001b[0m         \u001b[0mx\u001b[0m \u001b[0;34m=\u001b[0m \u001b[0mnp\u001b[0m\u001b[0;34m.\u001b[0m\u001b[0mascontiguousarray\u001b[0m\u001b[0;34m(\u001b[0m\u001b[0mx\u001b[0m\u001b[0;34m,\u001b[0m \u001b[0mdtype\u001b[0m\u001b[0;34m=\u001b[0m\u001b[0;34m'float32'\u001b[0m\u001b[0;34m)\u001b[0m\u001b[0;34m\u001b[0m\u001b[0;34m\u001b[0m\u001b[0m\n\u001b[0;32m--> 230\u001b[0;31m         \u001b[0mself\u001b[0m\u001b[0;34m.\u001b[0m\u001b[0madd_c\u001b[0m\u001b[0;34m(\u001b[0m\u001b[0mn\u001b[0m\u001b[0;34m,\u001b[0m \u001b[0mswig_ptr\u001b[0m\u001b[0;34m(\u001b[0m\u001b[0mx\u001b[0m\u001b[0;34m)\u001b[0m\u001b[0;34m)\u001b[0m\u001b[0;34m\u001b[0m\u001b[0;34m\u001b[0m\u001b[0m\n\u001b[0m\u001b[1;32m    231\u001b[0m \u001b[0;34m\u001b[0m\u001b[0m\n\u001b[1;32m    232\u001b[0m     \u001b[0;32mdef\u001b[0m \u001b[0mreplacement_add_with_ids\u001b[0m\u001b[0;34m(\u001b[0m\u001b[0mself\u001b[0m\u001b[0;34m,\u001b[0m \u001b[0mx\u001b[0m\u001b[0;34m,\u001b[0m \u001b[0mids\u001b[0m\u001b[0;34m)\u001b[0m\u001b[0;34m:\u001b[0m\u001b[0;34m\u001b[0m\u001b[0;34m\u001b[0m\u001b[0m\n",
      "\u001b[0;32m~/opt/anaconda3/lib/python3.9/site-packages/faiss/swigfaiss.py\u001b[0m in \u001b[0;36mswig_ptr\u001b[0;34m(a)\u001b[0m\n\u001b[1;32m  11895\u001b[0m \u001b[0;34m\u001b[0m\u001b[0m\n\u001b[1;32m  11896\u001b[0m \u001b[0;32mdef\u001b[0m \u001b[0mswig_ptr\u001b[0m\u001b[0;34m(\u001b[0m\u001b[0ma\u001b[0m\u001b[0;34m)\u001b[0m\u001b[0;34m:\u001b[0m\u001b[0;34m\u001b[0m\u001b[0;34m\u001b[0m\u001b[0m\n\u001b[0;32m> 11897\u001b[0;31m     \u001b[0;32mreturn\u001b[0m \u001b[0m_swigfaiss\u001b[0m\u001b[0;34m.\u001b[0m\u001b[0mswig_ptr\u001b[0m\u001b[0;34m(\u001b[0m\u001b[0ma\u001b[0m\u001b[0;34m)\u001b[0m\u001b[0;34m\u001b[0m\u001b[0;34m\u001b[0m\u001b[0m\n\u001b[0m\u001b[1;32m  11898\u001b[0m \u001b[0;34m\u001b[0m\u001b[0m\n\u001b[1;32m  11899\u001b[0m \u001b[0;32mdef\u001b[0m \u001b[0mrev_swig_ptr\u001b[0m\u001b[0;34m(\u001b[0m\u001b[0;34m*\u001b[0m\u001b[0margs\u001b[0m\u001b[0;34m)\u001b[0m\u001b[0;34m:\u001b[0m\u001b[0;34m\u001b[0m\u001b[0;34m\u001b[0m\u001b[0m\n",
      "\u001b[0;31mValueError\u001b[0m: input not a numpy array"
     ]
    }
   ],
   "source": [
    "import faiss\n",
    "# Convert embeddings to a contiguous numpy array of type float32\n",
    "embeddings_matrix = np.vstack(data['weighted_embedding'].values).astype('float32')\n",
    "embeddings_matrix = np.ascontiguousarray(embeddings_matrix)\n",
    "\n",
    "# Now, create the FAISS index and add the embeddings\n",
    "d = embeddings_matrix.shape[1]  # dimension of embeddings\n",
    "index = faiss.IndexFlatL2(d)    # Euclidean distance, or use IndexFlatIP for inner product\n",
    "index.add(embeddings_matrix)    # Add embeddings to the index\n"
   ]
  },
  {
   "cell_type": "code",
   "execution_count": null,
   "metadata": {},
   "outputs": [],
   "source": []
  }
 ],
 "metadata": {
  "kernelspec": {
   "display_name": "base",
   "language": "python",
   "name": "python3"
  },
  "language_info": {
   "codemirror_mode": {
    "name": "ipython",
    "version": 3
   },
   "file_extension": ".py",
   "mimetype": "text/x-python",
   "name": "python",
   "nbconvert_exporter": "python",
   "pygments_lexer": "ipython3",
   "version": "3.9.13"
  }
 },
 "nbformat": 4,
 "nbformat_minor": 2
}
