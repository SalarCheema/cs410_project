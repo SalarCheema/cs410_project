{
  "nbformat": 4,
  "nbformat_minor": 0,
  "metadata": {
    "colab": {
      "provenance": []
    },
    "kernelspec": {
      "name": "python3",
      "display_name": "Python 3"
    },
    "language_info": {
      "name": "python"
    }
  },
  "cells": [
    {
      "cell_type": "code",
      "source": [
        "import pandas as pd\n",
        "from sklearn.feature_extraction.text import TfidfVectorizer\n",
        "from sklearn.model_selection import train_test_split\n",
        "from sklearn.ensemble import RandomForestClassifier\n",
        "from sklearn.metrics import accuracy_score, ConfusionMatrixDisplay, precision_score, recall_score, f1_score\n",
        "import numpy as np\n",
        "import matplotlib.pyplot as plt\n",
        "\n",
        "# Load the dataset\n",
        "data = pd.read_csv(\"pre_processed_data.csv\")\n",
        "\n",
        "# tokenization (spliting text into words)\n",
        "tfidf_vectorizer = TfidfVectorizer(max_features=5000)\n",
        "# builds the vocab\n",
        "X_tfidf = tfidf_vectorizer.fit_transform(data['text'])\n",
        "print(X_tfidf.toarray())\n",
        "\n",
        "\n",
        "# combine TF-IDF features with upvote score\n",
        "X = np.hstack([X_tfidf.toarray(), data['score'].values.reshape(-1, 1)])\n",
        "# X = np.hstack(X_tfidf.toarray())\n",
        "\n",
        "y = data['expected_political_leaning']\n",
        "\n",
        "# # same num of samples\n",
        "min_class_count = min(y.value_counts())\n",
        "data_balanced = data.groupby('expected_political_leaning').apply(lambda x: x.sample(min_class_count)).reset_index(drop=True)\n",
        "\n",
        "X_balanced = np.hstack([\n",
        "    tfidf_vectorizer.fit_transform(data_balanced['text']).toarray(),\n",
        "    data_balanced['score'].values.reshape(-1, 1)\n",
        "])\n",
        "y_balanced = data_balanced['expected_political_leaning']\n",
        "\n",
        "# classification\n",
        "X_train, X_test, y_train, y_test = train_test_split(X_balanced, y_balanced, test_size=0.2, random_state=42)\n",
        "\n",
        "clf = RandomForestClassifier()\n",
        "clf.fit(X_train, y_train)\n",
        "\n",
        "# accuracy score\n",
        "y_pred = clf.predict(X_test)\n",
        "accuracy = accuracy_score(y_test, y_pred)\n",
        "print(f\"Accuracy: {accuracy:.2f}\")\n",
        "\n",
        "\n",
        "# visualize the Confusion Matrix\n",
        "ConfusionMatrixDisplay.from_predictions(y_test, y_pred)\n",
        "plt.title(\"Balanced Confusion Matrix\")\n",
        "plt.show()\n",
        "\n",
        "precision = precision_score(y_test, y_pred, pos_label='lib')\n",
        "recall = recall_score(y_test, y_pred, pos_label='lib')\n",
        "f1 = f1_score(y_test, y_pred, pos_label='lib')\n",
        "\n",
        "print(f\"Precision: {precision:.2f}\")\n",
        "print(f\"Recall: {recall:.2f}\")\n",
        "print(f\"F1-score: {f1:.2f}\")\n",
        "\n",
        "\n",
        "\n",
        "def predict_paragraph(text, upvote_score=150):\n",
        "    text_vector = tfidf_vectorizer.transform([text]).toarray()\n",
        "    features = np.append(text_vector, upvote_score).reshape(1, -1)\n",
        "    prediction = clf.predict(features)[0]\n",
        "    return prediction\n",
        "\n",
        "\n",
        "# file_path = \"Insurance_top_posts.csv\"\n",
        "# file_path = \"wallstreetbets_top_posts.csv\"\n",
        "file_path = \"NonPoliticalTwitter_top_posts.csv\"\n",
        "data = pd.read_csv(file_path)\n",
        "\n",
        "if 'text' not in data.columns:\n",
        "    raise ValueError(\"The dataset must contain a 'text' column.\")\n",
        "\n",
        "data['predicted_political_leaning'] = data['text'].apply(lambda text: predict_paragraph(text))\n",
        "\n",
        "data['predicted_political_leaning_label'] = data['predicted_political_leaning'].map({\n",
        "    'lib': 'Democrat',\n",
        "    'con': 'Republican'\n",
        "})\n",
        "\n",
        "leaning_percentage = data['predicted_political_leaning_label'].value_counts(normalize=True) * 100\n",
        "\n",
        "highest_party = leaning_percentage.idxmax()\n",
        "highest_percentage = leaning_percentage.max()\n",
        "\n",
        "print(f\"The party with the highest percentage is: {highest_party} ({highest_percentage:.2f}%)\")\n",
        "\n"
      ],
      "metadata": {
        "id": "fgPExaNwW-M7",
        "colab": {
          "base_uri": "https://localhost:8080/",
          "height": 742
        },
        "outputId": "75e2d03c-b7ac-439c-8453-845b5f270e9b"
      },
      "execution_count": null,
      "outputs": [
        {
          "output_type": "stream",
          "name": "stdout",
          "text": [
            "[[0. 0. 0. ... 0. 0. 0.]\n",
            " [0. 0. 0. ... 0. 0. 0.]\n",
            " [0. 0. 0. ... 0. 0. 0.]\n",
            " ...\n",
            " [0. 0. 0. ... 0. 0. 0.]\n",
            " [0. 0. 0. ... 0. 0. 0.]\n",
            " [0. 0. 0. ... 0. 0. 0.]]\n"
          ]
        },
        {
          "output_type": "stream",
          "name": "stderr",
          "text": [
            "<ipython-input-59-cfe22eca1529>:27: DeprecationWarning: DataFrameGroupBy.apply operated on the grouping columns. This behavior is deprecated, and in a future version of pandas the grouping columns will be excluded from the operation. Either pass `include_groups=False` to exclude the groupings or explicitly select the grouping columns after groupby to silence this warning.\n",
            "  data_balanced = data.groupby('expected_political_leaning').apply(lambda x: x.sample(min_class_count)).reset_index(drop=True)\n"
          ]
        },
        {
          "output_type": "stream",
          "name": "stdout",
          "text": [
            "Accuracy: 0.67\n"
          ]
        },
        {
          "output_type": "display_data",
          "data": {
            "text/plain": [
              "<Figure size 640x480 with 2 Axes>"
            ],
            "image/png": "[encoded data removed]"
          },
          "metadata": {}
        },
        {
          "output_type": "stream",
          "name": "stdout",
          "text": [
            "Precision: 0.65\n",
            "Recall: 0.68\n",
            "F1-score: 0.67\n",
            "The party with the highest percentage is: Republican (93.00%)\n"
          ]
        }
      ]
    },
    {
      "cell_type": "code",
      "source": [],
      "metadata": {
        "id": "D5pV0S7MLrmL"
      },
      "execution_count": null,
      "outputs": []
    },
    {
      "cell_type": "code",
      "source": [],
      "metadata": {
        "id": "toe-9j0S1lei"
      },
      "execution_count": null,
      "outputs": []
    }
  ]
}